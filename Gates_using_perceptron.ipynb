{
  "nbformat": 4,
  "nbformat_minor": 0,
  "metadata": {
    "colab": {
      "name": "Gates using perceptron ",
      "provenance": [],
      "collapsed_sections": []
    },
    "kernelspec": {
      "name": "python3",
      "display_name": "Python 3"
    }
  },
  "cells": [
    {
      "cell_type": "code",
      "metadata": {
        "id": "d_yb4F-KhLNr"
      },
      "source": [
        "import numpy as np\n",
        "import matplotlib.pyplot as plt\n",
        "import seaborn as sns\n",
        "\n",
        "\n",
        "X=np.array([[-1,-1],\n",
        "            [-1,1],\n",
        "            [1,-1],\n",
        "            [1,1]])\n",
        "\n",
        "AND=np.array([-1,-1,-1,1])\n",
        "OR=np.array([-1,1,1,1])"
      ],
      "execution_count": 30,
      "outputs": []
    },
    {
      "cell_type": "code",
      "metadata": {
        "id": "T5NvCLfviEKa"
      },
      "source": [
        "def perceptron(x,y,epochs=5):\n",
        "  w=[0.0]*(x[0].size+1)\n",
        "  for j in range(epochs):\n",
        "    print('epoch',j+1)\n",
        "    print(w)\n",
        "    print('Input  ','Y_Predectid','Y_Actual','Error')\n",
        "    for x_i,y_i in zip(x,y):\n",
        "      x_st=' '.join([str(i) if i<0 else '+'+str(i) for i in x_i])\n",
        "      y_st = str(y_i) if y_i<0 else '+'+str(y_i)  \n",
        "      X=np.append(x_i,1.0)\n",
        "      h = -1 if  w@X <=0 else 1\n",
        "      if y_i*h<=0:\n",
        "        w+=y_i*X\n",
        "      error=y_i-h\n",
        "      y_pred = str(h) if h<0 else '+'+str(h)\n",
        "      print(x_st,' '*(len('Y_Predectid')-5),y_pred,' '*(len('Y_Actual')),y_st,' '*(len('Error')),abs(error))\n",
        "  return w"
      ],
      "execution_count": 34,
      "outputs": []
    },
    {
      "cell_type": "code",
      "metadata": {
        "colab": {
          "base_uri": "https://localhost:8080/"
        },
        "id": "_qApyiBtk6R8",
        "outputId": "af015202-a60b-457b-8399-3fc2012b2f37"
      },
      "source": [
        "W_and=perceptron(X,AND)"
      ],
      "execution_count": 35,
      "outputs": [
        {
          "output_type": "stream",
          "text": [
            "epoch 1\n",
            "[0.0, 0.0, 0.0]\n",
            "Input   Y_Predectid Y_Actual Error\n",
            "-1 -1        -1          -1       0\n",
            "-1 +1        -1          -1       0\n",
            "+1 -1        -1          -1       0\n",
            "+1 +1        -1          +1       2\n",
            "epoch 2\n",
            "[1. 1. 1.]\n",
            "Input   Y_Predectid Y_Actual Error\n",
            "-1 -1        -1          -1       0\n",
            "-1 +1        +1          -1       2\n",
            "+1 -1        +1          -1       2\n",
            "+1 +1        +1          +1       0\n",
            "epoch 3\n",
            "[ 1.  1. -1.]\n",
            "Input   Y_Predectid Y_Actual Error\n",
            "-1 -1        -1          -1       0\n",
            "-1 +1        -1          -1       0\n",
            "+1 -1        -1          -1       0\n",
            "+1 +1        +1          +1       0\n",
            "epoch 4\n",
            "[ 1.  1. -1.]\n",
            "Input   Y_Predectid Y_Actual Error\n",
            "-1 -1        -1          -1       0\n",
            "-1 +1        -1          -1       0\n",
            "+1 -1        -1          -1       0\n",
            "+1 +1        +1          +1       0\n",
            "epoch 5\n",
            "[ 1.  1. -1.]\n",
            "Input   Y_Predectid Y_Actual Error\n",
            "-1 -1        -1          -1       0\n",
            "-1 +1        -1          -1       0\n",
            "+1 -1        -1          -1       0\n",
            "+1 +1        +1          +1       0\n"
          ],
          "name": "stdout"
        }
      ]
    },
    {
      "cell_type": "code",
      "metadata": {
        "colab": {
          "base_uri": "https://localhost:8080/"
        },
        "id": "0I3g5FtWFVQq",
        "outputId": "ef3092f4-8881-4a65-9b7c-4e709dd58c70"
      },
      "source": [
        "W_or=perceptron(X,OR)"
      ],
      "execution_count": 20,
      "outputs": [
        {
          "output_type": "stream",
          "text": [
            "epoch 1\n",
            "Input   Y_Predectid Y_Actual Error\n",
            "-1 -1        -1          -1       0\n",
            "-1 +1        -1          +1       2\n",
            "+1 -1        -1          +1       2\n",
            "+1 +1        +1          +1       0\n",
            "epoch 2\n",
            "Input   Y_Predectid Y_Actual Error\n",
            "-1 -1        +1          -1       2\n",
            "-1 +1        +1          +1       0\n",
            "+1 -1        +1          +1       0\n",
            "+1 +1        +1          +1       0\n",
            "epoch 3\n",
            "Input   Y_Predectid Y_Actual Error\n",
            "-1 -1        -1          -1       0\n",
            "-1 +1        +1          +1       0\n",
            "+1 -1        +1          +1       0\n",
            "+1 +1        +1          +1       0\n",
            "epoch 4\n",
            "Input   Y_Predectid Y_Actual Error\n",
            "-1 -1        -1          -1       0\n",
            "-1 +1        +1          +1       0\n",
            "+1 -1        +1          +1       0\n",
            "+1 +1        +1          +1       0\n",
            "epoch 5\n",
            "Input   Y_Predectid Y_Actual Error\n",
            "-1 -1        -1          -1       0\n",
            "-1 +1        +1          +1       0\n",
            "+1 -1        +1          +1       0\n",
            "+1 +1        +1          +1       0\n"
          ],
          "name": "stdout"
        }
      ]
    },
    {
      "cell_type": "code",
      "metadata": {
        "colab": {
          "base_uri": "https://localhost:8080/"
        },
        "id": "ngziQCnCodu0",
        "outputId": "de5a4b28-edd8-41de-cd5b-b8b6630a3cbb"
      },
      "source": [
        "W_and"
      ],
      "execution_count": 33,
      "outputs": [
        {
          "output_type": "execute_result",
          "data": {
            "text/plain": [
              "array([ 1.,  1., -1.])"
            ]
          },
          "metadata": {
            "tags": []
          },
          "execution_count": 33
        }
      ]
    },
    {
      "cell_type": "code",
      "metadata": {
        "colab": {
          "base_uri": "https://localhost:8080/"
        },
        "id": "3cjAZAQGohJg",
        "outputId": "ecb5850f-0d1f-4890-a543-d6487305ea4b"
      },
      "source": [
        "W_or"
      ],
      "execution_count": 24,
      "outputs": [
        {
          "output_type": "execute_result",
          "data": {
            "text/plain": [
              "array([1., 1., 1.])"
            ]
          },
          "metadata": {
            "tags": []
          },
          "execution_count": 24
        }
      ]
    },
    {
      "cell_type": "markdown",
      "metadata": {
        "id": "R0jQtXMc32VQ"
      },
      "source": [
        "Plots for AND gate"
      ]
    },
    {
      "cell_type": "code",
      "metadata": {
        "id": "qPyu5qn4xUOm"
      },
      "source": [
        "def plot_data(inputs,targets,weights,T):\n",
        "    plt.figure(figsize=(5,3))\n",
        "    plt.grid(True)\n",
        "\n",
        "    for input,target in zip(inputs,targets):\n",
        "        plt.plot(input[0],input[1],'ro' if (target == 1.0) else 'bo')\n",
        "\n",
        "    for i in np.linspace(np.amin(inputs[:,:1]),np.amax(inputs[:,:1])):\n",
        "        slope = -(weights[0]/weights[1])  \n",
        "        intercept = (T/weights[1])\n",
        "\n",
        "        y = (slope*i) + intercept\n",
        "        plt.plot(i, y,'ko')"
      ],
      "execution_count": 21,
      "outputs": []
    },
    {
      "cell_type": "code",
      "metadata": {
        "colab": {
          "base_uri": "https://localhost:8080/",
          "height": 490
        },
        "id": "T5yK8L1RM9gr",
        "outputId": "5be889f3-78c2-4b61-94b7-4549e2f104ef"
      },
      "source": [
        "for i in range(5):\n",
        "  plot_data(X,AND,W_and[i],T=.5)"
      ],
      "execution_count": 22,
      "outputs": [
        {
          "output_type": "error",
          "ename": "IndexError",
          "evalue": "ignored",
          "traceback": [
            "\u001b[0;31m---------------------------------------------------------------------------\u001b[0m",
            "\u001b[0;31mIndexError\u001b[0m                                Traceback (most recent call last)",
            "\u001b[0;32m<ipython-input-22-2e36adb8086c>\u001b[0m in \u001b[0;36m<module>\u001b[0;34m()\u001b[0m\n\u001b[1;32m      1\u001b[0m \u001b[0;32mfor\u001b[0m \u001b[0mi\u001b[0m \u001b[0;32min\u001b[0m \u001b[0mrange\u001b[0m\u001b[0;34m(\u001b[0m\u001b[0;36m5\u001b[0m\u001b[0;34m)\u001b[0m\u001b[0;34m:\u001b[0m\u001b[0;34m\u001b[0m\u001b[0;34m\u001b[0m\u001b[0m\n\u001b[0;32m----> 2\u001b[0;31m   \u001b[0mplot_data\u001b[0m\u001b[0;34m(\u001b[0m\u001b[0mX\u001b[0m\u001b[0;34m,\u001b[0m\u001b[0mAND\u001b[0m\u001b[0;34m,\u001b[0m\u001b[0mW_and\u001b[0m\u001b[0;34m[\u001b[0m\u001b[0mi\u001b[0m\u001b[0;34m]\u001b[0m\u001b[0;34m,\u001b[0m\u001b[0mT\u001b[0m\u001b[0;34m=\u001b[0m\u001b[0;36m.5\u001b[0m\u001b[0;34m)\u001b[0m\u001b[0;34m\u001b[0m\u001b[0;34m\u001b[0m\u001b[0m\n\u001b[0m",
            "\u001b[0;32m<ipython-input-21-a62930ea8031>\u001b[0m in \u001b[0;36mplot_data\u001b[0;34m(inputs, targets, weights, T)\u001b[0m\n\u001b[1;32m      7\u001b[0m \u001b[0;34m\u001b[0m\u001b[0m\n\u001b[1;32m      8\u001b[0m     \u001b[0;32mfor\u001b[0m \u001b[0mi\u001b[0m \u001b[0;32min\u001b[0m \u001b[0mnp\u001b[0m\u001b[0;34m.\u001b[0m\u001b[0mlinspace\u001b[0m\u001b[0;34m(\u001b[0m\u001b[0mnp\u001b[0m\u001b[0;34m.\u001b[0m\u001b[0mamin\u001b[0m\u001b[0;34m(\u001b[0m\u001b[0minputs\u001b[0m\u001b[0;34m[\u001b[0m\u001b[0;34m:\u001b[0m\u001b[0;34m,\u001b[0m\u001b[0;34m:\u001b[0m\u001b[0;36m1\u001b[0m\u001b[0;34m]\u001b[0m\u001b[0;34m)\u001b[0m\u001b[0;34m,\u001b[0m\u001b[0mnp\u001b[0m\u001b[0;34m.\u001b[0m\u001b[0mamax\u001b[0m\u001b[0;34m(\u001b[0m\u001b[0minputs\u001b[0m\u001b[0;34m[\u001b[0m\u001b[0;34m:\u001b[0m\u001b[0;34m,\u001b[0m\u001b[0;34m:\u001b[0m\u001b[0;36m1\u001b[0m\u001b[0;34m]\u001b[0m\u001b[0;34m)\u001b[0m\u001b[0;34m)\u001b[0m\u001b[0;34m:\u001b[0m\u001b[0;34m\u001b[0m\u001b[0;34m\u001b[0m\u001b[0m\n\u001b[0;32m----> 9\u001b[0;31m         \u001b[0mslope\u001b[0m \u001b[0;34m=\u001b[0m \u001b[0;34m-\u001b[0m\u001b[0;34m(\u001b[0m\u001b[0mweights\u001b[0m\u001b[0;34m[\u001b[0m\u001b[0;36m0\u001b[0m\u001b[0;34m]\u001b[0m\u001b[0;34m/\u001b[0m\u001b[0mweights\u001b[0m\u001b[0;34m[\u001b[0m\u001b[0;36m1\u001b[0m\u001b[0;34m]\u001b[0m\u001b[0;34m)\u001b[0m\u001b[0;34m\u001b[0m\u001b[0;34m\u001b[0m\u001b[0m\n\u001b[0m\u001b[1;32m     10\u001b[0m         \u001b[0mintercept\u001b[0m \u001b[0;34m=\u001b[0m \u001b[0;34m(\u001b[0m\u001b[0mT\u001b[0m\u001b[0;34m/\u001b[0m\u001b[0mweights\u001b[0m\u001b[0;34m[\u001b[0m\u001b[0;36m1\u001b[0m\u001b[0;34m]\u001b[0m\u001b[0;34m)\u001b[0m\u001b[0;34m\u001b[0m\u001b[0;34m\u001b[0m\u001b[0m\n\u001b[1;32m     11\u001b[0m \u001b[0;34m\u001b[0m\u001b[0m\n",
            "\u001b[0;31mIndexError\u001b[0m: invalid index to scalar variable."
          ]
        },
        {
          "output_type": "display_data",
          "data": {
            "image/png": "[encoded data removed]",
            "text/plain": [
              "<Figure size 360x216 with 1 Axes>"
            ]
          },
          "metadata": {
            "tags": [],
            "needs_background": "light"
          }
        }
      ]
    },
    {
      "cell_type": "markdown",
      "metadata": {
        "id": "yfo6I_7O4sAI"
      },
      "source": [
        "Plots for OR GATE "
      ]
    },
    {
      "cell_type": "code",
      "metadata": {
        "colab": {
          "base_uri": "https://localhost:8080/",
          "height": 987
        },
        "id": "ZQX95hzv4fG_",
        "outputId": "5ff48373-e2b3-481f-b65a-cba4f816f7de"
      },
      "source": [
        "for i in range(5):\n",
        "  plot_data(X,OR,W_or[i],T=1.5)"
      ],
      "execution_count": null,
      "outputs": [
        {
          "output_type": "display_data",
          "data": {
            "image/png": "[encoded data removed]",
            "text/plain": [
              "<Figure size 360x216 with 1 Axes>"
            ]
          },
          "metadata": {
            "tags": [],
            "needs_background": "light"
          }
        },
        {
          "output_type": "display_data",
          "data": {
            "image/png": "[encoded data removed]",
            "text/plain": [
              "<Figure size 360x216 with 1 Axes>"
            ]
          },
          "metadata": {
            "tags": [],
            "needs_background": "light"
          }
        },
        {
          "output_type": "display_data",
          "data": {
            "image/png": "[encoded data removed]",
            "text/plain": [
              "<Figure size 360x216 with 1 Axes>"
            ]
          },
          "metadata": {
            "tags": [],
            "needs_background": "light"
          }
        },
        {
          "output_type": "display_data",
          "data": {
            "image/png": "[encoded data removed]",
            "text/plain": [
              "<Figure size 360x216 with 1 Axes>"
            ]
          },
          "metadata": {
            "tags": [],
            "needs_background": "light"
          }
        },
        {
          "output_type": "display_data",
          "data": {
            "image/png": "[encoded data removed]",
            "text/plain": [
              "<Figure size 360x216 with 1 Axes>"
            ]
          },
          "metadata": {
            "tags": [],
            "needs_background": "light"
          }
        }
      ]
    }
  ]
}